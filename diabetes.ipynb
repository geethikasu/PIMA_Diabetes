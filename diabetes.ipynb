{
  "nbformat": 4,
  "nbformat_minor": 0,
  "metadata": {
    "colab": {
      "name": "diabetes.ipynb",
      "provenance": [],
      "collapsed_sections": []
    },
    "kernelspec": {
      "name": "python3",
      "display_name": "Python 3"
    }
  },
  "cells": [
    {
      "cell_type": "code",
      "metadata": {
        "colab": {
          "base_uri": "https://localhost:8080/"
        },
        "id": "5R5qXKA-zVIX",
        "outputId": "100db026-9920-4ead-ee0a-8ee1b5ba1832"
      },
      "source": [
        "pip install -U scikit-learn==0.23.2"
      ],
      "execution_count": null,
      "outputs": [
        {
          "output_type": "stream",
          "text": [
            "Collecting scikit-learn==0.23.2\n",
            "\u001b[?25l  Downloading https://files.pythonhosted.org/packages/5c/a1/273def87037a7fb010512bbc5901c31cfddfca8080bc63b42b26e3cc55b3/scikit_learn-0.23.2-cp36-cp36m-manylinux1_x86_64.whl (6.8MB)\n",
            "\u001b[K     |████████████████████████████████| 6.8MB 3.8MB/s \n",
            "\u001b[?25hRequirement already satisfied, skipping upgrade: joblib>=0.11 in /usr/local/lib/python3.6/dist-packages (from scikit-learn==0.23.2) (1.0.0)\n",
            "Requirement already satisfied, skipping upgrade: numpy>=1.13.3 in /usr/local/lib/python3.6/dist-packages (from scikit-learn==0.23.2) (1.19.5)\n",
            "Collecting threadpoolctl>=2.0.0\n",
            "  Downloading https://files.pythonhosted.org/packages/f7/12/ec3f2e203afa394a149911729357aa48affc59c20e2c1c8297a60f33f133/threadpoolctl-2.1.0-py3-none-any.whl\n",
            "Requirement already satisfied, skipping upgrade: scipy>=0.19.1 in /usr/local/lib/python3.6/dist-packages (from scikit-learn==0.23.2) (1.4.1)\n",
            "Installing collected packages: threadpoolctl, scikit-learn\n",
            "  Found existing installation: scikit-learn 0.22.2.post1\n",
            "    Uninstalling scikit-learn-0.22.2.post1:\n",
            "      Successfully uninstalled scikit-learn-0.22.2.post1\n",
            "Successfully installed scikit-learn-0.23.2 threadpoolctl-2.1.0\n"
          ],
          "name": "stdout"
        }
      ]
    },
    {
      "cell_type": "code",
      "metadata": {
        "id": "UwZIfqVozx-o"
      },
      "source": [
        "import numpy as np\r\n",
        "import pandas as pd\r\n",
        "import pickle"
      ],
      "execution_count": null,
      "outputs": []
    },
    {
      "cell_type": "code",
      "metadata": {
        "colab": {
          "resources": {
            "http://localhost:8080/nbextensions/google.colab/files.js": {
              "data": "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",
              "ok": true,
              "headers": [
                [
                  "content-type",
                  "application/javascript"
                ]
              ],
              "status": 200,
              "status_text": ""
            }
          },
          "base_uri": "https://localhost:8080/",
          "height": 72
        },
        "id": "RUF1WJzDzyA9",
        "outputId": "971cc7af-45bd-4ef2-aa38-50d99db55be4"
      },
      "source": [
        "from google.colab import files\r\n",
        "uploaded = files.upload()"
      ],
      "execution_count": null,
      "outputs": [
        {
          "output_type": "display_data",
          "data": {
            "text/html": [
              "\n",
              "     <input type=\"file\" id=\"files-76585d86-6122-4b8f-b278-9fd29ee9ed21\" name=\"files[]\" multiple disabled\n",
              "        style=\"border:none\" />\n",
              "     <output id=\"result-76585d86-6122-4b8f-b278-9fd29ee9ed21\">\n",
              "      Upload widget is only available when the cell has been executed in the\n",
              "      current browser session. Please rerun this cell to enable.\n",
              "      </output>\n",
              "      <script src=\"/nbextensions/google.colab/files.js\"></script> "
            ],
            "text/plain": [
              "<IPython.core.display.HTML object>"
            ]
          },
          "metadata": {
            "tags": []
          }
        },
        {
          "output_type": "stream",
          "text": [
            "Saving diabetes.csv to diabetes.csv\n"
          ],
          "name": "stdout"
        }
      ]
    },
    {
      "cell_type": "code",
      "metadata": {
        "id": "08eRc5KmzyFK"
      },
      "source": [
        "import io\r\n",
        "df = pd.read_csv(io.BytesIO(uploaded['diabetes.csv']))"
      ],
      "execution_count": null,
      "outputs": []
    },
    {
      "cell_type": "code",
      "metadata": {
        "colab": {
          "base_uri": "https://localhost:8080/",
          "height": 199
        },
        "id": "CbdtGxrI0CL0",
        "outputId": "f5494861-83b2-4dde-e94d-4ed76df43baa"
      },
      "source": [
        "df.head()"
      ],
      "execution_count": null,
      "outputs": [
        {
          "output_type": "execute_result",
          "data": {
            "text/html": [
              "<div>\n",
              "<style scoped>\n",
              "    .dataframe tbody tr th:only-of-type {\n",
              "        vertical-align: middle;\n",
              "    }\n",
              "\n",
              "    .dataframe tbody tr th {\n",
              "        vertical-align: top;\n",
              "    }\n",
              "\n",
              "    .dataframe thead th {\n",
              "        text-align: right;\n",
              "    }\n",
              "</style>\n",
              "<table border=\"1\" class=\"dataframe\">\n",
              "  <thead>\n",
              "    <tr style=\"text-align: right;\">\n",
              "      <th></th>\n",
              "      <th>Pregnancies</th>\n",
              "      <th>Glucose</th>\n",
              "      <th>BloodPressure</th>\n",
              "      <th>SkinThickness</th>\n",
              "      <th>Insulin</th>\n",
              "      <th>BMI</th>\n",
              "      <th>DiabetesPedigreeFunction</th>\n",
              "      <th>Age</th>\n",
              "      <th>Outcome</th>\n",
              "    </tr>\n",
              "  </thead>\n",
              "  <tbody>\n",
              "    <tr>\n",
              "      <th>0</th>\n",
              "      <td>6</td>\n",
              "      <td>148.0</td>\n",
              "      <td>72.0</td>\n",
              "      <td>35.0</td>\n",
              "      <td>125.0</td>\n",
              "      <td>33.6</td>\n",
              "      <td>0.627</td>\n",
              "      <td>50</td>\n",
              "      <td>1</td>\n",
              "    </tr>\n",
              "    <tr>\n",
              "      <th>1</th>\n",
              "      <td>1</td>\n",
              "      <td>85.0</td>\n",
              "      <td>66.0</td>\n",
              "      <td>29.0</td>\n",
              "      <td>125.0</td>\n",
              "      <td>26.6</td>\n",
              "      <td>0.351</td>\n",
              "      <td>31</td>\n",
              "      <td>0</td>\n",
              "    </tr>\n",
              "    <tr>\n",
              "      <th>2</th>\n",
              "      <td>8</td>\n",
              "      <td>183.0</td>\n",
              "      <td>64.0</td>\n",
              "      <td>29.0</td>\n",
              "      <td>125.0</td>\n",
              "      <td>23.3</td>\n",
              "      <td>0.672</td>\n",
              "      <td>32</td>\n",
              "      <td>1</td>\n",
              "    </tr>\n",
              "    <tr>\n",
              "      <th>3</th>\n",
              "      <td>1</td>\n",
              "      <td>89.0</td>\n",
              "      <td>66.0</td>\n",
              "      <td>23.0</td>\n",
              "      <td>94.0</td>\n",
              "      <td>28.1</td>\n",
              "      <td>0.167</td>\n",
              "      <td>21</td>\n",
              "      <td>0</td>\n",
              "    </tr>\n",
              "    <tr>\n",
              "      <th>4</th>\n",
              "      <td>0</td>\n",
              "      <td>137.0</td>\n",
              "      <td>40.0</td>\n",
              "      <td>35.0</td>\n",
              "      <td>168.0</td>\n",
              "      <td>43.1</td>\n",
              "      <td>2.288</td>\n",
              "      <td>33</td>\n",
              "      <td>1</td>\n",
              "    </tr>\n",
              "  </tbody>\n",
              "</table>\n",
              "</div>"
            ],
            "text/plain": [
              "   Pregnancies  Glucose  BloodPressure  ...  DiabetesPedigreeFunction  Age  Outcome\n",
              "0            6    148.0           72.0  ...                     0.627   50        1\n",
              "1            1     85.0           66.0  ...                     0.351   31        0\n",
              "2            8    183.0           64.0  ...                     0.672   32        1\n",
              "3            1     89.0           66.0  ...                     0.167   21        0\n",
              "4            0    137.0           40.0  ...                     2.288   33        1\n",
              "\n",
              "[5 rows x 9 columns]"
            ]
          },
          "metadata": {
            "tags": []
          },
          "execution_count": 61
        }
      ]
    },
    {
      "cell_type": "code",
      "metadata": {
        "colab": {
          "base_uri": "https://localhost:8080/"
        },
        "id": "Wh6G6P1v0COu",
        "outputId": "3ead4d84-fe15-4f29-9b4a-8ff50b140946"
      },
      "source": [
        "#data cleaning\r\n",
        "df.isnull().sum()"
      ],
      "execution_count": null,
      "outputs": [
        {
          "output_type": "execute_result",
          "data": {
            "text/plain": [
              "Pregnancies                 0\n",
              "Glucose                     0\n",
              "BloodPressure               0\n",
              "SkinThickness               0\n",
              "Insulin                     0\n",
              "BMI                         0\n",
              "DiabetesPedigreeFunction    0\n",
              "Age                         0\n",
              "Outcome                     0\n",
              "dtype: int64"
            ]
          },
          "metadata": {
            "tags": []
          },
          "execution_count": 62
        }
      ]
    },
    {
      "cell_type": "code",
      "metadata": {
        "id": "1-4TimsCzyHG"
      },
      "source": [
        "df[['Glucose','BloodPressure','SkinThickness','Insulin','BMI']]=df[['Glucose','BloodPressure','SkinThickness','Insulin','BMI']].replace(0,np.NaN)"
      ],
      "execution_count": null,
      "outputs": []
    },
    {
      "cell_type": "code",
      "metadata": {
        "colab": {
          "base_uri": "https://localhost:8080/"
        },
        "id": "Bj3pDhybzyK4",
        "outputId": "4d49aab5-3c91-40a0-e9f1-daf990d1575f"
      },
      "source": [
        "df.isnull().sum()"
      ],
      "execution_count": null,
      "outputs": [
        {
          "output_type": "execute_result",
          "data": {
            "text/plain": [
              "Pregnancies                 0\n",
              "Glucose                     0\n",
              "BloodPressure               0\n",
              "SkinThickness               0\n",
              "Insulin                     0\n",
              "BMI                         0\n",
              "DiabetesPedigreeFunction    0\n",
              "Age                         0\n",
              "Outcome                     0\n",
              "dtype: int64"
            ]
          },
          "metadata": {
            "tags": []
          },
          "execution_count": 64
        }
      ]
    },
    {
      "cell_type": "code",
      "metadata": {
        "colab": {
          "base_uri": "https://localhost:8080/",
          "height": 290
        },
        "id": "uMLLhcuI01Oh",
        "outputId": "e0b3df67-8ca9-4946-88c6-0340614ee21c"
      },
      "source": [
        "df.describe()"
      ],
      "execution_count": null,
      "outputs": [
        {
          "output_type": "execute_result",
          "data": {
            "text/html": [
              "<div>\n",
              "<style scoped>\n",
              "    .dataframe tbody tr th:only-of-type {\n",
              "        vertical-align: middle;\n",
              "    }\n",
              "\n",
              "    .dataframe tbody tr th {\n",
              "        vertical-align: top;\n",
              "    }\n",
              "\n",
              "    .dataframe thead th {\n",
              "        text-align: right;\n",
              "    }\n",
              "</style>\n",
              "<table border=\"1\" class=\"dataframe\">\n",
              "  <thead>\n",
              "    <tr style=\"text-align: right;\">\n",
              "      <th></th>\n",
              "      <th>Pregnancies</th>\n",
              "      <th>Glucose</th>\n",
              "      <th>BloodPressure</th>\n",
              "      <th>SkinThickness</th>\n",
              "      <th>Insulin</th>\n",
              "      <th>BMI</th>\n",
              "      <th>DiabetesPedigreeFunction</th>\n",
              "      <th>Age</th>\n",
              "      <th>Outcome</th>\n",
              "    </tr>\n",
              "  </thead>\n",
              "  <tbody>\n",
              "    <tr>\n",
              "      <th>count</th>\n",
              "      <td>768.000000</td>\n",
              "      <td>768.000000</td>\n",
              "      <td>768.000000</td>\n",
              "      <td>768.000000</td>\n",
              "      <td>768.000000</td>\n",
              "      <td>768.000000</td>\n",
              "      <td>768.000000</td>\n",
              "      <td>768.000000</td>\n",
              "      <td>768.000000</td>\n",
              "    </tr>\n",
              "    <tr>\n",
              "      <th>mean</th>\n",
              "      <td>3.845052</td>\n",
              "      <td>121.686763</td>\n",
              "      <td>72.386719</td>\n",
              "      <td>29.108073</td>\n",
              "      <td>140.671875</td>\n",
              "      <td>32.455208</td>\n",
              "      <td>0.471876</td>\n",
              "      <td>33.240885</td>\n",
              "      <td>0.348958</td>\n",
              "    </tr>\n",
              "    <tr>\n",
              "      <th>std</th>\n",
              "      <td>3.369578</td>\n",
              "      <td>30.435949</td>\n",
              "      <td>12.096642</td>\n",
              "      <td>8.791221</td>\n",
              "      <td>86.383060</td>\n",
              "      <td>6.875177</td>\n",
              "      <td>0.331329</td>\n",
              "      <td>11.760232</td>\n",
              "      <td>0.476951</td>\n",
              "    </tr>\n",
              "    <tr>\n",
              "      <th>min</th>\n",
              "      <td>0.000000</td>\n",
              "      <td>44.000000</td>\n",
              "      <td>24.000000</td>\n",
              "      <td>7.000000</td>\n",
              "      <td>14.000000</td>\n",
              "      <td>18.200000</td>\n",
              "      <td>0.078000</td>\n",
              "      <td>21.000000</td>\n",
              "      <td>0.000000</td>\n",
              "    </tr>\n",
              "    <tr>\n",
              "      <th>25%</th>\n",
              "      <td>1.000000</td>\n",
              "      <td>99.750000</td>\n",
              "      <td>64.000000</td>\n",
              "      <td>25.000000</td>\n",
              "      <td>121.500000</td>\n",
              "      <td>27.500000</td>\n",
              "      <td>0.243750</td>\n",
              "      <td>24.000000</td>\n",
              "      <td>0.000000</td>\n",
              "    </tr>\n",
              "    <tr>\n",
              "      <th>50%</th>\n",
              "      <td>3.000000</td>\n",
              "      <td>117.000000</td>\n",
              "      <td>72.000000</td>\n",
              "      <td>29.000000</td>\n",
              "      <td>125.000000</td>\n",
              "      <td>32.300000</td>\n",
              "      <td>0.372500</td>\n",
              "      <td>29.000000</td>\n",
              "      <td>0.000000</td>\n",
              "    </tr>\n",
              "    <tr>\n",
              "      <th>75%</th>\n",
              "      <td>6.000000</td>\n",
              "      <td>140.250000</td>\n",
              "      <td>80.000000</td>\n",
              "      <td>32.000000</td>\n",
              "      <td>127.250000</td>\n",
              "      <td>36.600000</td>\n",
              "      <td>0.626250</td>\n",
              "      <td>41.000000</td>\n",
              "      <td>1.000000</td>\n",
              "    </tr>\n",
              "    <tr>\n",
              "      <th>max</th>\n",
              "      <td>17.000000</td>\n",
              "      <td>199.000000</td>\n",
              "      <td>122.000000</td>\n",
              "      <td>99.000000</td>\n",
              "      <td>846.000000</td>\n",
              "      <td>67.100000</td>\n",
              "      <td>2.420000</td>\n",
              "      <td>81.000000</td>\n",
              "      <td>1.000000</td>\n",
              "    </tr>\n",
              "  </tbody>\n",
              "</table>\n",
              "</div>"
            ],
            "text/plain": [
              "       Pregnancies     Glucose  ...         Age     Outcome\n",
              "count   768.000000  768.000000  ...  768.000000  768.000000\n",
              "mean      3.845052  121.686763  ...   33.240885    0.348958\n",
              "std       3.369578   30.435949  ...   11.760232    0.476951\n",
              "min       0.000000   44.000000  ...   21.000000    0.000000\n",
              "25%       1.000000   99.750000  ...   24.000000    0.000000\n",
              "50%       3.000000  117.000000  ...   29.000000    0.000000\n",
              "75%       6.000000  140.250000  ...   41.000000    1.000000\n",
              "max      17.000000  199.000000  ...   81.000000    1.000000\n",
              "\n",
              "[8 rows x 9 columns]"
            ]
          },
          "metadata": {
            "tags": []
          },
          "execution_count": 65
        }
      ]
    },
    {
      "cell_type": "code",
      "metadata": {
        "colab": {
          "base_uri": "https://localhost:8080/",
          "height": 1000
        },
        "id": "IEytEZqg01RF",
        "outputId": "d6773b6f-8487-4a69-f6a0-540014fd0428"
      },
      "source": [
        "import seaborn as sns\r\n",
        "import matplotlib.pyplot as plt\r\n",
        "sns.boxplot(x=df['Glucose'])\r\n",
        "plt.show()\r\n",
        "sns.boxplot(x=df['BloodPressure'])\r\n",
        "plt.show()\r\n",
        "sns.boxplot(x=df['SkinThickness'])\r\n",
        "plt.show()\r\n",
        "sns.boxplot(x=df['Insulin'])\r\n",
        "plt.show()\r\n",
        "sns.boxplot(x=df['BMI'])\r\n",
        "plt.show()"
      ],
      "execution_count": null,
      "outputs": [
        {
          "output_type": "display_data",
          "data": {
            "image/png": "[encoded data removed]",
            "text/plain": [
              "<Figure size 432x288 with 1 Axes>"
            ]
          },
          "metadata": {
            "tags": [],
            "needs_background": "light"
          }
        },
        {
          "output_type": "display_data",
          "data": {
            "image/png": "[encoded data removed]",
            "text/plain": [
              "<Figure size 432x288 with 1 Axes>"
            ]
          },
          "metadata": {
            "tags": [],
            "needs_background": "light"
          }
        },
        {
          "output_type": "display_data",
          "data": {
            "image/png": "[encoded data removed]",
            "text/plain": [
              "<Figure size 432x288 with 1 Axes>"
            ]
          },
          "metadata": {
            "tags": [],
            "needs_background": "light"
          }
        },
        {
          "output_type": "display_data",
          "data": {
            "image/png": "[encoded data removed]",
            "text/plain": [
              "<Figure size 432x288 with 1 Axes>"
            ]
          },
          "metadata": {
            "tags": [],
            "needs_background": "light"
          }
        },
        {
          "output_type": "display_data",
          "data": {
            "image/png": "[encoded data removed]",
            "text/plain": [
              "<Figure size 432x288 with 1 Axes>"
            ]
          },
          "metadata": {
            "tags": [],
            "needs_background": "light"
          }
        }
      ]
    },
    {
      "cell_type": "code",
      "metadata": {
        "id": "CXklKsdC01Uv"
      },
      "source": [
        "df['Glucose'].fillna(df['Glucose'].mean(),inplace=True)\r\n",
        "df['BloodPressure'].fillna(df['BloodPressure'].median(),inplace=True)\r\n",
        "df['SkinThickness'].fillna(df['SkinThickness'].median(),inplace=True)\r\n",
        "df['Insulin'].fillna(df['Insulin'].median(),inplace=True)\r\n",
        "df['BMI'].fillna(df['BMI'].median(),inplace=True)"
      ],
      "execution_count": null,
      "outputs": []
    },
    {
      "cell_type": "code",
      "metadata": {
        "colab": {
          "base_uri": "https://localhost:8080/",
          "height": 199
        },
        "id": "f9UfrCMU01Wc",
        "outputId": "bede94b0-bea2-48f9-a883-0b24ed128d0e"
      },
      "source": [
        "df.head()"
      ],
      "execution_count": null,
      "outputs": [
        {
          "output_type": "execute_result",
          "data": {
            "text/html": [
              "<div>\n",
              "<style scoped>\n",
              "    .dataframe tbody tr th:only-of-type {\n",
              "        vertical-align: middle;\n",
              "    }\n",
              "\n",
              "    .dataframe tbody tr th {\n",
              "        vertical-align: top;\n",
              "    }\n",
              "\n",
              "    .dataframe thead th {\n",
              "        text-align: right;\n",
              "    }\n",
              "</style>\n",
              "<table border=\"1\" class=\"dataframe\">\n",
              "  <thead>\n",
              "    <tr style=\"text-align: right;\">\n",
              "      <th></th>\n",
              "      <th>Pregnancies</th>\n",
              "      <th>Glucose</th>\n",
              "      <th>BloodPressure</th>\n",
              "      <th>SkinThickness</th>\n",
              "      <th>Insulin</th>\n",
              "      <th>BMI</th>\n",
              "      <th>DiabetesPedigreeFunction</th>\n",
              "      <th>Age</th>\n",
              "      <th>Outcome</th>\n",
              "    </tr>\n",
              "  </thead>\n",
              "  <tbody>\n",
              "    <tr>\n",
              "      <th>0</th>\n",
              "      <td>6</td>\n",
              "      <td>148.0</td>\n",
              "      <td>72.0</td>\n",
              "      <td>35.0</td>\n",
              "      <td>125.0</td>\n",
              "      <td>33.6</td>\n",
              "      <td>0.627</td>\n",
              "      <td>50</td>\n",
              "      <td>1</td>\n",
              "    </tr>\n",
              "    <tr>\n",
              "      <th>1</th>\n",
              "      <td>1</td>\n",
              "      <td>85.0</td>\n",
              "      <td>66.0</td>\n",
              "      <td>29.0</td>\n",
              "      <td>125.0</td>\n",
              "      <td>26.6</td>\n",
              "      <td>0.351</td>\n",
              "      <td>31</td>\n",
              "      <td>0</td>\n",
              "    </tr>\n",
              "    <tr>\n",
              "      <th>2</th>\n",
              "      <td>8</td>\n",
              "      <td>183.0</td>\n",
              "      <td>64.0</td>\n",
              "      <td>29.0</td>\n",
              "      <td>125.0</td>\n",
              "      <td>23.3</td>\n",
              "      <td>0.672</td>\n",
              "      <td>32</td>\n",
              "      <td>1</td>\n",
              "    </tr>\n",
              "    <tr>\n",
              "      <th>3</th>\n",
              "      <td>1</td>\n",
              "      <td>89.0</td>\n",
              "      <td>66.0</td>\n",
              "      <td>23.0</td>\n",
              "      <td>94.0</td>\n",
              "      <td>28.1</td>\n",
              "      <td>0.167</td>\n",
              "      <td>21</td>\n",
              "      <td>0</td>\n",
              "    </tr>\n",
              "    <tr>\n",
              "      <th>4</th>\n",
              "      <td>0</td>\n",
              "      <td>137.0</td>\n",
              "      <td>40.0</td>\n",
              "      <td>35.0</td>\n",
              "      <td>168.0</td>\n",
              "      <td>43.1</td>\n",
              "      <td>2.288</td>\n",
              "      <td>33</td>\n",
              "      <td>1</td>\n",
              "    </tr>\n",
              "  </tbody>\n",
              "</table>\n",
              "</div>"
            ],
            "text/plain": [
              "   Pregnancies  Glucose  BloodPressure  ...  DiabetesPedigreeFunction  Age  Outcome\n",
              "0            6    148.0           72.0  ...                     0.627   50        1\n",
              "1            1     85.0           66.0  ...                     0.351   31        0\n",
              "2            8    183.0           64.0  ...                     0.672   32        1\n",
              "3            1     89.0           66.0  ...                     0.167   21        0\n",
              "4            0    137.0           40.0  ...                     2.288   33        1\n",
              "\n",
              "[5 rows x 9 columns]"
            ]
          },
          "metadata": {
            "tags": []
          },
          "execution_count": 68
        }
      ]
    },
    {
      "cell_type": "code",
      "metadata": {
        "colab": {
          "base_uri": "https://localhost:8080/",
          "height": 390
        },
        "id": "Jk6ZRLR_01ag",
        "outputId": "c08b7e56-9665-444e-c496-5ef5bf1460be"
      },
      "source": [
        "features=df.iloc[:,:-1]\r\n",
        "sns.heatmap(features.corr(),cmap=\"Reds\",annot=False)\r\n",
        "plt.show()"
      ],
      "execution_count": null,
      "outputs": [
        {
          "output_type": "display_data",
          "data": {
            "image/png": "[encoded data removed]",
            "text/plain": [
              "<Figure size 432x288 with 2 Axes>"
            ]
          },
          "metadata": {
            "tags": [],
            "needs_background": "light"
          }
        }
      ]
    },
    {
      "cell_type": "code",
      "metadata": {
        "id": "-JFMLsew01dv"
      },
      "source": [
        "X = df.iloc[:,:-1].values\r\n",
        "y = df.iloc[:,-1].values"
      ],
      "execution_count": null,
      "outputs": []
    },
    {
      "cell_type": "code",
      "metadata": {
        "id": "eu1EnE8A1T8L"
      },
      "source": [
        "from sklearn.model_selection import train_test_split\r\n",
        "X_train,X_test,y_train,y_test = train_test_split(X,y,test_size=0.2,random_state=0)"
      ],
      "execution_count": null,
      "outputs": []
    },
    {
      "cell_type": "code",
      "metadata": {
        "id": "P0W02KqL1T-O"
      },
      "source": [
        "#feature scaling\r\n",
        "from sklearn.preprocessing import StandardScaler\r\n",
        "sc = StandardScaler()\r\n",
        "X_train = sc.fit_transform(X_train)\r\n",
        "X_test = sc.transform(X_test)"
      ],
      "execution_count": null,
      "outputs": []
    },
    {
      "cell_type": "code",
      "metadata": {
        "colab": {
          "base_uri": "https://localhost:8080/",
          "height": 199
        },
        "id": "Hm2txk2m1UBp",
        "outputId": "c7d48671-419f-43fd-cfc7-0c05af37043a"
      },
      "source": [
        "from sklearn.ensemble import RandomForestClassifier\r\n",
        "X = df.iloc[:,:-1].values\r\n",
        "y = df.iloc[:,-1].values\r\n",
        "model=RandomForestClassifier(n_estimators=20,random_state=0)\r\n",
        "model.fit(X_train,y_train)\r\n",
        "y_pred=model.predict(X_test)\r\n",
        "\r\n",
        "\r\n",
        "act_pred_df = pd.DataFrame({\"Actual\":y_test,\"Predicted\":y_pred})\r\n",
        "act_pred_df.head()"
      ],
      "execution_count": null,
      "outputs": [
        {
          "output_type": "execute_result",
          "data": {
            "text/html": [
              "<div>\n",
              "<style scoped>\n",
              "    .dataframe tbody tr th:only-of-type {\n",
              "        vertical-align: middle;\n",
              "    }\n",
              "\n",
              "    .dataframe tbody tr th {\n",
              "        vertical-align: top;\n",
              "    }\n",
              "\n",
              "    .dataframe thead th {\n",
              "        text-align: right;\n",
              "    }\n",
              "</style>\n",
              "<table border=\"1\" class=\"dataframe\">\n",
              "  <thead>\n",
              "    <tr style=\"text-align: right;\">\n",
              "      <th></th>\n",
              "      <th>Actual</th>\n",
              "      <th>Predicted</th>\n",
              "    </tr>\n",
              "  </thead>\n",
              "  <tbody>\n",
              "    <tr>\n",
              "      <th>0</th>\n",
              "      <td>1</td>\n",
              "      <td>1</td>\n",
              "    </tr>\n",
              "    <tr>\n",
              "      <th>1</th>\n",
              "      <td>0</td>\n",
              "      <td>0</td>\n",
              "    </tr>\n",
              "    <tr>\n",
              "      <th>2</th>\n",
              "      <td>0</td>\n",
              "      <td>0</td>\n",
              "    </tr>\n",
              "    <tr>\n",
              "      <th>3</th>\n",
              "      <td>1</td>\n",
              "      <td>1</td>\n",
              "    </tr>\n",
              "    <tr>\n",
              "      <th>4</th>\n",
              "      <td>0</td>\n",
              "      <td>0</td>\n",
              "    </tr>\n",
              "  </tbody>\n",
              "</table>\n",
              "</div>"
            ],
            "text/plain": [
              "   Actual  Predicted\n",
              "0       1          1\n",
              "1       0          0\n",
              "2       0          0\n",
              "3       1          1\n",
              "4       0          0"
            ]
          },
          "metadata": {
            "tags": []
          },
          "execution_count": 73
        }
      ]
    },
    {
      "cell_type": "code",
      "metadata": {
        "colab": {
          "base_uri": "https://localhost:8080/"
        },
        "id": "3vMaqwy11UDN",
        "outputId": "407c0cd7-f5d1-49ac-d05f-d4311691372c"
      },
      "source": [
        "from sklearn.metrics import accuracy_score,confusion_matrix,classification_report\r\n",
        "\r\n",
        "accuracy = accuracy_score(y_test,y_pred)\r\n",
        "print(\"Accuracy:\",accuracy)"
      ],
      "execution_count": null,
      "outputs": [
        {
          "output_type": "stream",
          "text": [
            "Accuracy: 0.7792207792207793\n"
          ],
          "name": "stdout"
        }
      ]
    },
    {
      "cell_type": "code",
      "metadata": {
        "colab": {
          "base_uri": "https://localhost:8080/"
        },
        "id": "TDMJDjJZ3r3p",
        "outputId": "82c92957-f317-47b1-f214-2c788fb41452"
      },
      "source": [
        "print(confusion_matrix(y_test,y_pred))"
      ],
      "execution_count": null,
      "outputs": [
        {
          "output_type": "stream",
          "text": [
            "[[93 14]\n",
            " [20 27]]\n"
          ],
          "name": "stdout"
        }
      ]
    },
    {
      "cell_type": "code",
      "metadata": {
        "colab": {
          "base_uri": "https://localhost:8080/"
        },
        "id": "_isdoQ4Z3r6j",
        "outputId": "08c0b173-4cda-4488-af8f-587433b844bd"
      },
      "source": [
        "print(classification_report(y_test,y_pred))"
      ],
      "execution_count": null,
      "outputs": [
        {
          "output_type": "stream",
          "text": [
            "              precision    recall  f1-score   support\n",
            "\n",
            "           0       0.82      0.87      0.85       107\n",
            "           1       0.66      0.57      0.61        47\n",
            "\n",
            "    accuracy                           0.78       154\n",
            "   macro avg       0.74      0.72      0.73       154\n",
            "weighted avg       0.77      0.78      0.77       154\n",
            "\n"
          ],
          "name": "stdout"
        }
      ]
    },
    {
      "cell_type": "code",
      "metadata": {
        "id": "fKTtRcAr30yG"
      },
      "source": [
        "#tuning the hyper parameters for better performance using GridSearchCV\r\n",
        "from sklearn.model_selection import GridSearchCV\r\n",
        "param_grid = {\r\n",
        "    'n_estimators': [5,10,15,20,25,30],\r\n",
        "    'max_features': [2,4,6],\r\n",
        "    'max_depth': [2,5,8,12,15,20]\r\n",
        "}\r\n",
        "\r\n"
      ],
      "execution_count": null,
      "outputs": []
    },
    {
      "cell_type": "code",
      "metadata": {
        "colab": {
          "base_uri": "https://localhost:8080/"
        },
        "id": "DhrCfkV5301E",
        "outputId": "2b3754e8-6ca0-4786-be1c-534c8b609a25"
      },
      "source": [
        "grid_model = GridSearchCV(model,param_grid,cv=10)\r\n",
        "grid_model.fit(X_train,y_train)"
      ],
      "execution_count": null,
      "outputs": [
        {
          "output_type": "execute_result",
          "data": {
            "text/plain": [
              "GridSearchCV(cv=10,\n",
              "             estimator=RandomForestClassifier(n_estimators=20, random_state=0),\n",
              "             param_grid={'max_depth': [2, 5, 8, 12, 15, 20],\n",
              "                         'max_features': [2, 4, 6],\n",
              "                         'n_estimators': [5, 10, 15, 20, 25, 30]})"
            ]
          },
          "metadata": {
            "tags": []
          },
          "execution_count": 78
        }
      ]
    },
    {
      "cell_type": "code",
      "metadata": {
        "colab": {
          "base_uri": "https://localhost:8080/"
        },
        "id": "rtIMsqrJ1UHC",
        "outputId": "3459a154-94dc-4678-cd15-f5de1f2d05f8"
      },
      "source": [
        "grid_model.best_params_"
      ],
      "execution_count": null,
      "outputs": [
        {
          "output_type": "execute_result",
          "data": {
            "text/plain": [
              "{'max_depth': 8, 'max_features': 6, 'n_estimators': 20}"
            ]
          },
          "metadata": {
            "tags": []
          },
          "execution_count": 79
        }
      ]
    },
    {
      "cell_type": "code",
      "metadata": {
        "colab": {
          "base_uri": "https://localhost:8080/",
          "height": 199
        },
        "id": "Kz37aszq8sJS",
        "outputId": "21a3ca55-6b12-486d-927f-ebec1807ea59"
      },
      "source": [
        "#training model with new hyper parameters\r\n",
        "n_model=RandomForestClassifier(n_estimators=20,max_depth=8,max_features=6)\r\n",
        "n_model.fit(X_train,y_train)\r\n",
        "y_pred=n_model.predict(X_test)\r\n",
        "\r\n",
        "\r\n",
        "act_pred_df = pd.DataFrame({\"Actual\":y_test,\"Predicted\":y_pred})\r\n",
        "act_pred_df.head()"
      ],
      "execution_count": null,
      "outputs": [
        {
          "output_type": "execute_result",
          "data": {
            "text/html": [
              "<div>\n",
              "<style scoped>\n",
              "    .dataframe tbody tr th:only-of-type {\n",
              "        vertical-align: middle;\n",
              "    }\n",
              "\n",
              "    .dataframe tbody tr th {\n",
              "        vertical-align: top;\n",
              "    }\n",
              "\n",
              "    .dataframe thead th {\n",
              "        text-align: right;\n",
              "    }\n",
              "</style>\n",
              "<table border=\"1\" class=\"dataframe\">\n",
              "  <thead>\n",
              "    <tr style=\"text-align: right;\">\n",
              "      <th></th>\n",
              "      <th>Actual</th>\n",
              "      <th>Predicted</th>\n",
              "    </tr>\n",
              "  </thead>\n",
              "  <tbody>\n",
              "    <tr>\n",
              "      <th>0</th>\n",
              "      <td>1</td>\n",
              "      <td>1</td>\n",
              "    </tr>\n",
              "    <tr>\n",
              "      <th>1</th>\n",
              "      <td>0</td>\n",
              "      <td>0</td>\n",
              "    </tr>\n",
              "    <tr>\n",
              "      <th>2</th>\n",
              "      <td>0</td>\n",
              "      <td>0</td>\n",
              "    </tr>\n",
              "    <tr>\n",
              "      <th>3</th>\n",
              "      <td>1</td>\n",
              "      <td>1</td>\n",
              "    </tr>\n",
              "    <tr>\n",
              "      <th>4</th>\n",
              "      <td>0</td>\n",
              "      <td>0</td>\n",
              "    </tr>\n",
              "  </tbody>\n",
              "</table>\n",
              "</div>"
            ],
            "text/plain": [
              "   Actual  Predicted\n",
              "0       1          1\n",
              "1       0          0\n",
              "2       0          0\n",
              "3       1          1\n",
              "4       0          0"
            ]
          },
          "metadata": {
            "tags": []
          },
          "execution_count": 82
        }
      ]
    },
    {
      "cell_type": "code",
      "metadata": {
        "colab": {
          "base_uri": "https://localhost:8080/"
        },
        "id": "vBZcrlI68sMJ",
        "outputId": "5d346122-e2bb-48e9-f556-7dd1bc0e842a"
      },
      "source": [
        "from sklearn.metrics import accuracy_score,confusion_matrix,classification_report\r\n",
        "\r\n",
        "accuracy = accuracy_score(y_test,y_pred)\r\n",
        "print(\"Accuracy:\",accuracy)"
      ],
      "execution_count": null,
      "outputs": [
        {
          "output_type": "stream",
          "text": [
            "Accuracy: 0.8116883116883117\n"
          ],
          "name": "stdout"
        }
      ]
    },
    {
      "cell_type": "code",
      "metadata": {
        "colab": {
          "base_uri": "https://localhost:8080/"
        },
        "id": "kpPVkVLA-GSG",
        "outputId": "ae52a901-738e-4d31-b477-6f2d0f8465a7"
      },
      "source": [
        "print(classification_report(y_test,y_pred))"
      ],
      "execution_count": null,
      "outputs": [
        {
          "output_type": "stream",
          "text": [
            "              precision    recall  f1-score   support\n",
            "\n",
            "           0       0.88      0.84      0.86       107\n",
            "           1       0.67      0.74      0.71        47\n",
            "\n",
            "    accuracy                           0.81       154\n",
            "   macro avg       0.78      0.79      0.78       154\n",
            "weighted avg       0.82      0.81      0.81       154\n",
            "\n"
          ],
          "name": "stdout"
        }
      ]
    },
    {
      "cell_type": "code",
      "metadata": {
        "colab": {
          "base_uri": "https://localhost:8080/"
        },
        "id": "_8IHilCqFtX9",
        "outputId": "15abc85c-9fe1-4a63-ebe9-029f74c5b6b3"
      },
      "source": [
        "print(confusion_matrix(y_test,y_pred))"
      ],
      "execution_count": null,
      "outputs": [
        {
          "output_type": "stream",
          "text": [
            "[[90 17]\n",
            " [12 35]]\n"
          ],
          "name": "stdout"
        }
      ]
    },
    {
      "cell_type": "code",
      "metadata": {
        "colab": {
          "base_uri": "https://localhost:8080/"
        },
        "id": "F4G0_IPr-GU8",
        "outputId": "87f72341-f7f7-47f3-d0c6-9ecf6fb39ba7"
      },
      "source": [
        "from sklearn.model_selection import RandomizedSearchCV\r\n",
        "\r\n",
        "n_estimators = [int(x) for x in np.linspace(start = 5, stop = 100, num = 5)]\r\n",
        "\r\n",
        "max_features = ['auto', 'sqrt']\r\n",
        "\r\n",
        "max_depth = [int(x) for x in np.linspace(1, 45, num = 3)]\r\n",
        "\r\n",
        "#random grid\r\n",
        "random_grid = {'n_estimators': n_estimators,\r\n",
        "               'max_features': max_features,\r\n",
        "               'max_depth': max_depth\r\n",
        "              }\r\n",
        "\r\n",
        "print(random_grid)"
      ],
      "execution_count": null,
      "outputs": [
        {
          "output_type": "stream",
          "text": [
            "{'n_estimators': [5, 28, 52, 76, 100], 'max_features': ['auto', 'sqrt'], 'max_depth': [1, 23, 45]}\n"
          ],
          "name": "stdout"
        }
      ]
    },
    {
      "cell_type": "code",
      "metadata": {
        "colab": {
          "base_uri": "https://localhost:8080/"
        },
        "id": "H3cFwH-ZAhB-",
        "outputId": "cbe528a7-7d33-44f8-ff20-083cac5dd236"
      },
      "source": [
        "r_model = RandomizedSearchCV(estimator = model, param_distributions = random_grid, n_iter = 10, cv = 10, verbose=2, random_state=42)\r\n",
        "\r\n",
        "r_model.fit(X_train, y_train)"
      ],
      "execution_count": null,
      "outputs": [
        {
          "output_type": "stream",
          "text": [
            "Fitting 10 folds for each of 10 candidates, totalling 100 fits\n",
            "[CV] n_estimators=52, max_features=sqrt, max_depth=45 ................\n",
            "[CV] . n_estimators=52, max_features=sqrt, max_depth=45, total=   0.1s\n",
            "[CV] n_estimators=52, max_features=sqrt, max_depth=45 ................\n"
          ],
          "name": "stdout"
        },
        {
          "output_type": "stream",
          "text": [
            "[Parallel(n_jobs=1)]: Using backend SequentialBackend with 1 concurrent workers.\n",
            "[Parallel(n_jobs=1)]: Done   1 out of   1 | elapsed:    0.1s remaining:    0.0s\n"
          ],
          "name": "stderr"
        },
        {
          "output_type": "stream",
          "text": [
            "[CV] . n_estimators=52, max_features=sqrt, max_depth=45, total=   0.1s\n",
            "[CV] n_estimators=52, max_features=sqrt, max_depth=45 ................\n",
            "[CV] . n_estimators=52, max_features=sqrt, max_depth=45, total=   0.1s\n",
            "[CV] n_estimators=52, max_features=sqrt, max_depth=45 ................\n",
            "[CV] . n_estimators=52, max_features=sqrt, max_depth=45, total=   0.1s\n",
            "[CV] n_estimators=52, max_features=sqrt, max_depth=45 ................\n",
            "[CV] . n_estimators=52, max_features=sqrt, max_depth=45, total=   0.1s\n",
            "[CV] n_estimators=52, max_features=sqrt, max_depth=45 ................\n",
            "[CV] . n_estimators=52, max_features=sqrt, max_depth=45, total=   0.1s\n",
            "[CV] n_estimators=52, max_features=sqrt, max_depth=45 ................\n",
            "[CV] . n_estimators=52, max_features=sqrt, max_depth=45, total=   0.1s\n",
            "[CV] n_estimators=52, max_features=sqrt, max_depth=45 ................\n",
            "[CV] . n_estimators=52, max_features=sqrt, max_depth=45, total=   0.1s\n",
            "[CV] n_estimators=52, max_features=sqrt, max_depth=45 ................\n",
            "[CV] . n_estimators=52, max_features=sqrt, max_depth=45, total=   0.1s\n",
            "[CV] n_estimators=52, max_features=sqrt, max_depth=45 ................\n",
            "[CV] . n_estimators=52, max_features=sqrt, max_depth=45, total=   0.1s\n",
            "[CV] n_estimators=5, max_features=sqrt, max_depth=23 .................\n",
            "[CV] .. n_estimators=5, max_features=sqrt, max_depth=23, total=   0.0s\n",
            "[CV] n_estimators=5, max_features=sqrt, max_depth=23 .................\n",
            "[CV] .. n_estimators=5, max_features=sqrt, max_depth=23, total=   0.0s\n",
            "[CV] n_estimators=5, max_features=sqrt, max_depth=23 .................\n",
            "[CV] .. n_estimators=5, max_features=sqrt, max_depth=23, total=   0.0s\n",
            "[CV] n_estimators=5, max_features=sqrt, max_depth=23 .................\n",
            "[CV] .. n_estimators=5, max_features=sqrt, max_depth=23, total=   0.0s\n",
            "[CV] n_estimators=5, max_features=sqrt, max_depth=23 .................\n",
            "[CV] .. n_estimators=5, max_features=sqrt, max_depth=23, total=   0.0s\n",
            "[CV] n_estimators=5, max_features=sqrt, max_depth=23 .................\n",
            "[CV] .. n_estimators=5, max_features=sqrt, max_depth=23, total=   0.0s\n",
            "[CV] n_estimators=5, max_features=sqrt, max_depth=23 .................\n",
            "[CV] .. n_estimators=5, max_features=sqrt, max_depth=23, total=   0.0s\n",
            "[CV] n_estimators=5, max_features=sqrt, max_depth=23 .................\n",
            "[CV] .. n_estimators=5, max_features=sqrt, max_depth=23, total=   0.0s\n",
            "[CV] n_estimators=5, max_features=sqrt, max_depth=23 .................\n",
            "[CV] .. n_estimators=5, max_features=sqrt, max_depth=23, total=   0.0s\n",
            "[CV] n_estimators=5, max_features=sqrt, max_depth=23 .................\n",
            "[CV] .. n_estimators=5, max_features=sqrt, max_depth=23, total=   0.0s\n",
            "[CV] n_estimators=76, max_features=auto, max_depth=45 ................\n",
            "[CV] . n_estimators=76, max_features=auto, max_depth=45, total=   0.2s\n",
            "[CV] n_estimators=76, max_features=auto, max_depth=45 ................\n",
            "[CV] . n_estimators=76, max_features=auto, max_depth=45, total=   0.2s\n",
            "[CV] n_estimators=76, max_features=auto, max_depth=45 ................\n",
            "[CV] . n_estimators=76, max_features=auto, max_depth=45, total=   0.2s\n",
            "[CV] n_estimators=76, max_features=auto, max_depth=45 ................\n",
            "[CV] . n_estimators=76, max_features=auto, max_depth=45, total=   0.1s\n",
            "[CV] n_estimators=76, max_features=auto, max_depth=45 ................\n",
            "[CV] . n_estimators=76, max_features=auto, max_depth=45, total=   0.2s\n",
            "[CV] n_estimators=76, max_features=auto, max_depth=45 ................\n",
            "[CV] . n_estimators=76, max_features=auto, max_depth=45, total=   0.1s\n",
            "[CV] n_estimators=76, max_features=auto, max_depth=45 ................\n",
            "[CV] . n_estimators=76, max_features=auto, max_depth=45, total=   0.1s\n",
            "[CV] n_estimators=76, max_features=auto, max_depth=45 ................\n",
            "[CV] . n_estimators=76, max_features=auto, max_depth=45, total=   0.1s\n",
            "[CV] n_estimators=76, max_features=auto, max_depth=45 ................\n",
            "[CV] . n_estimators=76, max_features=auto, max_depth=45, total=   0.2s\n",
            "[CV] n_estimators=76, max_features=auto, max_depth=45 ................\n",
            "[CV] . n_estimators=76, max_features=auto, max_depth=45, total=   0.2s\n",
            "[CV] n_estimators=52, max_features=sqrt, max_depth=23 ................\n",
            "[CV] . n_estimators=52, max_features=sqrt, max_depth=23, total=   0.1s\n",
            "[CV] n_estimators=52, max_features=sqrt, max_depth=23 ................\n",
            "[CV] . n_estimators=52, max_features=sqrt, max_depth=23, total=   0.1s\n",
            "[CV] n_estimators=52, max_features=sqrt, max_depth=23 ................\n",
            "[CV] . n_estimators=52, max_features=sqrt, max_depth=23, total=   0.1s\n",
            "[CV] n_estimators=52, max_features=sqrt, max_depth=23 ................\n",
            "[CV] . n_estimators=52, max_features=sqrt, max_depth=23, total=   0.1s\n",
            "[CV] n_estimators=52, max_features=sqrt, max_depth=23 ................\n",
            "[CV] . n_estimators=52, max_features=sqrt, max_depth=23, total=   0.1s\n",
            "[CV] n_estimators=52, max_features=sqrt, max_depth=23 ................\n",
            "[CV] . n_estimators=52, max_features=sqrt, max_depth=23, total=   0.1s\n",
            "[CV] n_estimators=52, max_features=sqrt, max_depth=23 ................\n",
            "[CV] . n_estimators=52, max_features=sqrt, max_depth=23, total=   0.1s\n",
            "[CV] n_estimators=52, max_features=sqrt, max_depth=23 ................\n",
            "[CV] . n_estimators=52, max_features=sqrt, max_depth=23, total=   0.1s\n",
            "[CV] n_estimators=52, max_features=sqrt, max_depth=23 ................\n",
            "[CV] . n_estimators=52, max_features=sqrt, max_depth=23, total=   0.1s\n",
            "[CV] n_estimators=52, max_features=sqrt, max_depth=23 ................\n",
            "[CV] . n_estimators=52, max_features=sqrt, max_depth=23, total=   0.1s\n",
            "[CV] n_estimators=76, max_features=sqrt, max_depth=1 .................\n",
            "[CV] .. n_estimators=76, max_features=sqrt, max_depth=1, total=   0.1s\n",
            "[CV] n_estimators=76, max_features=sqrt, max_depth=1 .................\n",
            "[CV] .. n_estimators=76, max_features=sqrt, max_depth=1, total=   0.1s\n",
            "[CV] n_estimators=76, max_features=sqrt, max_depth=1 .................\n",
            "[CV] .. n_estimators=76, max_features=sqrt, max_depth=1, total=   0.1s\n",
            "[CV] n_estimators=76, max_features=sqrt, max_depth=1 .................\n",
            "[CV] .. n_estimators=76, max_features=sqrt, max_depth=1, total=   0.1s\n",
            "[CV] n_estimators=76, max_features=sqrt, max_depth=1 .................\n",
            "[CV] .. n_estimators=76, max_features=sqrt, max_depth=1, total=   0.1s\n",
            "[CV] n_estimators=76, max_features=sqrt, max_depth=1 .................\n",
            "[CV] .. n_estimators=76, max_features=sqrt, max_depth=1, total=   0.1s\n",
            "[CV] n_estimators=76, max_features=sqrt, max_depth=1 .................\n",
            "[CV] .. n_estimators=76, max_features=sqrt, max_depth=1, total=   0.1s\n",
            "[CV] n_estimators=76, max_features=sqrt, max_depth=1 .................\n",
            "[CV] .. n_estimators=76, max_features=sqrt, max_depth=1, total=   0.1s\n",
            "[CV] n_estimators=76, max_features=sqrt, max_depth=1 .................\n",
            "[CV] .. n_estimators=76, max_features=sqrt, max_depth=1, total=   0.1s\n",
            "[CV] n_estimators=76, max_features=sqrt, max_depth=1 .................\n",
            "[CV] .. n_estimators=76, max_features=sqrt, max_depth=1, total=   0.1s\n",
            "[CV] n_estimators=100, max_features=sqrt, max_depth=1 ................\n",
            "[CV] . n_estimators=100, max_features=sqrt, max_depth=1, total=   0.2s\n",
            "[CV] n_estimators=100, max_features=sqrt, max_depth=1 ................\n",
            "[CV] . n_estimators=100, max_features=sqrt, max_depth=1, total=   0.2s\n",
            "[CV] n_estimators=100, max_features=sqrt, max_depth=1 ................\n",
            "[CV] . n_estimators=100, max_features=sqrt, max_depth=1, total=   0.2s\n",
            "[CV] n_estimators=100, max_features=sqrt, max_depth=1 ................\n",
            "[CV] . n_estimators=100, max_features=sqrt, max_depth=1, total=   0.2s\n",
            "[CV] n_estimators=100, max_features=sqrt, max_depth=1 ................\n",
            "[CV] . n_estimators=100, max_features=sqrt, max_depth=1, total=   0.1s\n",
            "[CV] n_estimators=100, max_features=sqrt, max_depth=1 ................\n",
            "[CV] . n_estimators=100, max_features=sqrt, max_depth=1, total=   0.1s\n",
            "[CV] n_estimators=100, max_features=sqrt, max_depth=1 ................\n",
            "[CV] . n_estimators=100, max_features=sqrt, max_depth=1, total=   0.2s\n",
            "[CV] n_estimators=100, max_features=sqrt, max_depth=1 ................\n",
            "[CV] . n_estimators=100, max_features=sqrt, max_depth=1, total=   0.2s\n",
            "[CV] n_estimators=100, max_features=sqrt, max_depth=1 ................\n",
            "[CV] . n_estimators=100, max_features=sqrt, max_depth=1, total=   0.2s\n",
            "[CV] n_estimators=100, max_features=sqrt, max_depth=1 ................\n",
            "[CV] . n_estimators=100, max_features=sqrt, max_depth=1, total=   0.2s\n",
            "[CV] n_estimators=76, max_features=sqrt, max_depth=45 ................\n",
            "[CV] . n_estimators=76, max_features=sqrt, max_depth=45, total=   0.1s\n",
            "[CV] n_estimators=76, max_features=sqrt, max_depth=45 ................\n",
            "[CV] . n_estimators=76, max_features=sqrt, max_depth=45, total=   0.2s\n",
            "[CV] n_estimators=76, max_features=sqrt, max_depth=45 ................\n",
            "[CV] . n_estimators=76, max_features=sqrt, max_depth=45, total=   0.1s\n",
            "[CV] n_estimators=76, max_features=sqrt, max_depth=45 ................\n",
            "[CV] . n_estimators=76, max_features=sqrt, max_depth=45, total=   0.1s\n",
            "[CV] n_estimators=76, max_features=sqrt, max_depth=45 ................\n",
            "[CV] . n_estimators=76, max_features=sqrt, max_depth=45, total=   0.1s\n",
            "[CV] n_estimators=76, max_features=sqrt, max_depth=45 ................\n",
            "[CV] . n_estimators=76, max_features=sqrt, max_depth=45, total=   0.2s\n",
            "[CV] n_estimators=76, max_features=sqrt, max_depth=45 ................\n",
            "[CV] . n_estimators=76, max_features=sqrt, max_depth=45, total=   0.2s\n",
            "[CV] n_estimators=76, max_features=sqrt, max_depth=45 ................\n",
            "[CV] . n_estimators=76, max_features=sqrt, max_depth=45, total=   0.2s\n",
            "[CV] n_estimators=76, max_features=sqrt, max_depth=45 ................\n",
            "[CV] . n_estimators=76, max_features=sqrt, max_depth=45, total=   0.2s\n",
            "[CV] n_estimators=76, max_features=sqrt, max_depth=45 ................\n",
            "[CV] . n_estimators=76, max_features=sqrt, max_depth=45, total=   0.2s\n",
            "[CV] n_estimators=100, max_features=auto, max_depth=45 ...............\n",
            "[CV]  n_estimators=100, max_features=auto, max_depth=45, total=   0.2s\n",
            "[CV] n_estimators=100, max_features=auto, max_depth=45 ...............\n",
            "[CV]  n_estimators=100, max_features=auto, max_depth=45, total=   0.2s\n",
            "[CV] n_estimators=100, max_features=auto, max_depth=45 ...............\n",
            "[CV]  n_estimators=100, max_features=auto, max_depth=45, total=   0.2s\n",
            "[CV] n_estimators=100, max_features=auto, max_depth=45 ...............\n",
            "[CV]  n_estimators=100, max_features=auto, max_depth=45, total=   0.2s\n",
            "[CV] n_estimators=100, max_features=auto, max_depth=45 ...............\n",
            "[CV]  n_estimators=100, max_features=auto, max_depth=45, total=   0.2s\n",
            "[CV] n_estimators=100, max_features=auto, max_depth=45 ...............\n",
            "[CV]  n_estimators=100, max_features=auto, max_depth=45, total=   0.2s\n",
            "[CV] n_estimators=100, max_features=auto, max_depth=45 ...............\n",
            "[CV]  n_estimators=100, max_features=auto, max_depth=45, total=   0.2s\n",
            "[CV] n_estimators=100, max_features=auto, max_depth=45 ...............\n",
            "[CV]  n_estimators=100, max_features=auto, max_depth=45, total=   0.2s\n",
            "[CV] n_estimators=100, max_features=auto, max_depth=45 ...............\n",
            "[CV]  n_estimators=100, max_features=auto, max_depth=45, total=   0.2s\n",
            "[CV] n_estimators=100, max_features=auto, max_depth=45 ...............\n",
            "[CV]  n_estimators=100, max_features=auto, max_depth=45, total=   0.2s\n",
            "[CV] n_estimators=52, max_features=auto, max_depth=23 ................\n",
            "[CV] . n_estimators=52, max_features=auto, max_depth=23, total=   0.1s\n",
            "[CV] n_estimators=52, max_features=auto, max_depth=23 ................\n",
            "[CV] . n_estimators=52, max_features=auto, max_depth=23, total=   0.1s\n",
            "[CV] n_estimators=52, max_features=auto, max_depth=23 ................\n",
            "[CV] . n_estimators=52, max_features=auto, max_depth=23, total=   0.1s\n",
            "[CV] n_estimators=52, max_features=auto, max_depth=23 ................\n",
            "[CV] . n_estimators=52, max_features=auto, max_depth=23, total=   0.1s\n",
            "[CV] n_estimators=52, max_features=auto, max_depth=23 ................\n",
            "[CV] . n_estimators=52, max_features=auto, max_depth=23, total=   0.1s\n",
            "[CV] n_estimators=52, max_features=auto, max_depth=23 ................\n",
            "[CV] . n_estimators=52, max_features=auto, max_depth=23, total=   0.1s\n",
            "[CV] n_estimators=52, max_features=auto, max_depth=23 ................\n",
            "[CV] . n_estimators=52, max_features=auto, max_depth=23, total=   0.1s\n",
            "[CV] n_estimators=52, max_features=auto, max_depth=23 ................\n",
            "[CV] . n_estimators=52, max_features=auto, max_depth=23, total=   0.1s\n",
            "[CV] n_estimators=52, max_features=auto, max_depth=23 ................\n",
            "[CV] . n_estimators=52, max_features=auto, max_depth=23, total=   0.1s\n",
            "[CV] n_estimators=52, max_features=auto, max_depth=23 ................\n",
            "[CV] . n_estimators=52, max_features=auto, max_depth=23, total=   0.1s\n",
            "[CV] n_estimators=5, max_features=auto, max_depth=1 ..................\n",
            "[CV] ... n_estimators=5, max_features=auto, max_depth=1, total=   0.0s\n",
            "[CV] n_estimators=5, max_features=auto, max_depth=1 ..................\n",
            "[CV] ... n_estimators=5, max_features=auto, max_depth=1, total=   0.0s\n",
            "[CV] n_estimators=5, max_features=auto, max_depth=1 ..................\n",
            "[CV] ... n_estimators=5, max_features=auto, max_depth=1, total=   0.0s\n",
            "[CV] n_estimators=5, max_features=auto, max_depth=1 ..................\n",
            "[CV] ... n_estimators=5, max_features=auto, max_depth=1, total=   0.0s\n",
            "[CV] n_estimators=5, max_features=auto, max_depth=1 ..................\n",
            "[CV] ... n_estimators=5, max_features=auto, max_depth=1, total=   0.0s\n",
            "[CV] n_estimators=5, max_features=auto, max_depth=1 ..................\n",
            "[CV] ... n_estimators=5, max_features=auto, max_depth=1, total=   0.0s\n",
            "[CV] n_estimators=5, max_features=auto, max_depth=1 ..................\n",
            "[CV] ... n_estimators=5, max_features=auto, max_depth=1, total=   0.0s\n",
            "[CV] n_estimators=5, max_features=auto, max_depth=1 ..................\n",
            "[CV] ... n_estimators=5, max_features=auto, max_depth=1, total=   0.0s\n",
            "[CV] n_estimators=5, max_features=auto, max_depth=1 ..................\n",
            "[CV] ... n_estimators=5, max_features=auto, max_depth=1, total=   0.0s\n",
            "[CV] n_estimators=5, max_features=auto, max_depth=1 ..................\n",
            "[CV] ... n_estimators=5, max_features=auto, max_depth=1, total=   0.0s\n"
          ],
          "name": "stdout"
        },
        {
          "output_type": "stream",
          "text": [
            "[Parallel(n_jobs=1)]: Done 100 out of 100 | elapsed:   11.4s finished\n"
          ],
          "name": "stderr"
        },
        {
          "output_type": "execute_result",
          "data": {
            "text/plain": [
              "RandomizedSearchCV(cv=10,\n",
              "                   estimator=RandomForestClassifier(n_estimators=20,\n",
              "                                                    random_state=0),\n",
              "                   param_distributions={'max_depth': [1, 23, 45],\n",
              "                                        'max_features': ['auto', 'sqrt'],\n",
              "                                        'n_estimators': [5, 28, 52, 76, 100]},\n",
              "                   random_state=42, verbose=2)"
            ]
          },
          "metadata": {
            "tags": []
          },
          "execution_count": 87
        }
      ]
    },
    {
      "cell_type": "code",
      "metadata": {
        "colab": {
          "base_uri": "https://localhost:8080/"
        },
        "id": "8DryIpemEv4L",
        "outputId": "6179af89-32e8-4ceb-ed62-582e82125ae4"
      },
      "source": [
        "r_model.best_params_"
      ],
      "execution_count": null,
      "outputs": [
        {
          "output_type": "execute_result",
          "data": {
            "text/plain": [
              "{'max_depth': 45, 'max_features': 'auto', 'n_estimators': 76}"
            ]
          },
          "metadata": {
            "tags": []
          },
          "execution_count": 88
        }
      ]
    },
    {
      "cell_type": "code",
      "metadata": {
        "id": "tqrqJMdOAhE4",
        "colab": {
          "base_uri": "https://localhost:8080/",
          "height": 199
        },
        "outputId": "ef69a514-7392-43b7-ed19-94cc634d8167"
      },
      "source": [
        "#training model with new hyper parameters\r\n",
        "r_model=RandomForestClassifier(n_estimators=76,max_depth=45,max_features='auto')\r\n",
        "r_model.fit(X_train,y_train)\r\n",
        "y_pred=r_model.predict(X_test)\r\n",
        "\r\n",
        "\r\n",
        "act_pred_df = pd.DataFrame({\"Actual\":y_test,\"Predicted\":y_pred})\r\n",
        "act_pred_df.head()"
      ],
      "execution_count": null,
      "outputs": [
        {
          "output_type": "execute_result",
          "data": {
            "text/html": [
              "<div>\n",
              "<style scoped>\n",
              "    .dataframe tbody tr th:only-of-type {\n",
              "        vertical-align: middle;\n",
              "    }\n",
              "\n",
              "    .dataframe tbody tr th {\n",
              "        vertical-align: top;\n",
              "    }\n",
              "\n",
              "    .dataframe thead th {\n",
              "        text-align: right;\n",
              "    }\n",
              "</style>\n",
              "<table border=\"1\" class=\"dataframe\">\n",
              "  <thead>\n",
              "    <tr style=\"text-align: right;\">\n",
              "      <th></th>\n",
              "      <th>Actual</th>\n",
              "      <th>Predicted</th>\n",
              "    </tr>\n",
              "  </thead>\n",
              "  <tbody>\n",
              "    <tr>\n",
              "      <th>0</th>\n",
              "      <td>1</td>\n",
              "      <td>1</td>\n",
              "    </tr>\n",
              "    <tr>\n",
              "      <th>1</th>\n",
              "      <td>0</td>\n",
              "      <td>0</td>\n",
              "    </tr>\n",
              "    <tr>\n",
              "      <th>2</th>\n",
              "      <td>0</td>\n",
              "      <td>0</td>\n",
              "    </tr>\n",
              "    <tr>\n",
              "      <th>3</th>\n",
              "      <td>1</td>\n",
              "      <td>1</td>\n",
              "    </tr>\n",
              "    <tr>\n",
              "      <th>4</th>\n",
              "      <td>0</td>\n",
              "      <td>0</td>\n",
              "    </tr>\n",
              "  </tbody>\n",
              "</table>\n",
              "</div>"
            ],
            "text/plain": [
              "   Actual  Predicted\n",
              "0       1          1\n",
              "1       0          0\n",
              "2       0          0\n",
              "3       1          1\n",
              "4       0          0"
            ]
          },
          "metadata": {
            "tags": []
          },
          "execution_count": 89
        }
      ]
    },
    {
      "cell_type": "code",
      "metadata": {
        "colab": {
          "base_uri": "https://localhost:8080/"
        },
        "id": "oVug4CYCEP90",
        "outputId": "f44b349a-d2f9-4cc7-b4cc-689eda81e12e"
      },
      "source": [
        "from sklearn.metrics import accuracy_score,confusion_matrix,classification_report\r\n",
        "\r\n",
        "accuracy = accuracy_score(y_test,y_pred)\r\n",
        "print(\"Accuracy:\",accuracy)"
      ],
      "execution_count": null,
      "outputs": [
        {
          "output_type": "stream",
          "text": [
            "Accuracy: 0.7987012987012987\n"
          ],
          "name": "stdout"
        }
      ]
    },
    {
      "cell_type": "code",
      "metadata": {
        "colab": {
          "base_uri": "https://localhost:8080/"
        },
        "id": "AaT2-bFNEQAt",
        "outputId": "473b468d-105b-4875-f879-c84099986656"
      },
      "source": [
        "print(classification_report(y_test,y_pred))"
      ],
      "execution_count": null,
      "outputs": [
        {
          "output_type": "stream",
          "text": [
            "              precision    recall  f1-score   support\n",
            "\n",
            "           0       0.85      0.86      0.86       107\n",
            "           1       0.67      0.66      0.67        47\n",
            "\n",
            "    accuracy                           0.80       154\n",
            "   macro avg       0.76      0.76      0.76       154\n",
            "weighted avg       0.80      0.80      0.80       154\n",
            "\n"
          ],
          "name": "stdout"
        }
      ]
    },
    {
      "cell_type": "code",
      "metadata": {
        "colab": {
          "base_uri": "https://localhost:8080/"
        },
        "id": "u8Nt3MdpHZGN",
        "outputId": "d48c9a84-abd9-4664-86a6-40935978ac8d"
      },
      "source": [
        "print(confusion_matrix(y_test,y_pred))"
      ],
      "execution_count": null,
      "outputs": [
        {
          "output_type": "stream",
          "text": [
            "[[92 15]\n",
            " [16 31]]\n"
          ],
          "name": "stdout"
        }
      ]
    },
    {
      "cell_type": "code",
      "metadata": {
        "id": "FTE9wv-CHhnX"
      },
      "source": [
        "pickle.dump(n_model,open('dia_model.pkl','wb'))"
      ],
      "execution_count": null,
      "outputs": []
    }
  ]
}